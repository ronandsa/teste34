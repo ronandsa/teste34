{
 "cells": [
  {
   "cell_type": "markdown",
   "id": "22e58270",
   "metadata": {},
   "source": [
    "# Soluções - Case\n"
   ]
  },
  {
   "cell_type": "markdown",
   "id": "bd79ec57",
   "metadata": {},
   "source": [
    "## Item 1 - Sobre Solutions Engineering"
   ]
  },
  {
   "cell_type": "markdown",
   "id": "d2a4be25",
   "metadata": {},
   "source": [
    "#### 1.1 Link do vídeo com a apresentação da arquitetura sugerida:"
   ]
  },
  {
   "cell_type": "markdown",
   "id": "8874283b",
   "metadata": {},
   "source": [
    "https://youtu.be/o0vZe84xz_c\n"
   ]
  },
  {
   "cell_type": "markdown",
   "id": "8c2c4654",
   "metadata": {},
   "source": [
    "## Item  2 - Sobre a Dadosfera"
   ]
  },
  {
   "cell_type": "markdown",
   "id": "4e475e12",
   "metadata": {},
   "source": [
    "#### 2.1 Os dados foram coletados via Rest api:"
   ]
  },
  {
   "cell_type": "markdown",
   "id": "2bc36a79",
   "metadata": {},
   "source": [
    "![Imagem 1](item2/1.png)"
   ]
  },
  {
   "cell_type": "markdown",
   "id": "52261e35",
   "metadata": {},
   "source": [
    "![Imagem 1](item2/2.png)"
   ]
  },
  {
   "cell_type": "markdown",
   "id": "62b5503c",
   "metadata": {},
   "source": [
    "#### 2.2 As configurações da Api:"
   ]
  },
  {
   "cell_type": "markdown",
   "id": "dd79fd93",
   "metadata": {},
   "source": [
    "![Imagem 3](item2/3.png)"
   ]
  },
  {
   "cell_type": "markdown",
   "id": "ba6e5ff4",
   "metadata": {},
   "source": [
    "#### 2.3 Fonte de dados importada com sucesso e documentada:"
   ]
  },
  {
   "cell_type": "markdown",
   "id": "12ebe391",
   "metadata": {},
   "source": [
    "![Imagem 4](item2/4.png)"
   ]
  },
  {
   "cell_type": "markdown",
   "id": "25e688f7",
   "metadata": {},
   "source": [
    "![Imagem 5](item2/5.png)"
   ]
  },
  {
   "cell_type": "markdown",
   "id": "6ecb22fd",
   "metadata": {},
   "source": [
    "![Imagem 6](item2/6.png)"
   ]
  },
  {
   "cell_type": "markdown",
   "id": "6c3c02a9",
   "metadata": {},
   "source": [
    "![Imagem 7](item2/7.png)"
   ]
  },
  {
   "cell_type": "markdown",
   "id": "d0925795",
   "metadata": {},
   "source": [
    "## Item 3 - Sobre GenAI e LLMs"
   ]
  },
  {
   "cell_type": "markdown",
   "id": "54680469",
   "metadata": {},
   "source": [
    "#### 3.1 Dados Categorizados importados e documentados:"
   ]
  },
  {
   "cell_type": "markdown",
   "id": "4904ca3f",
   "metadata": {},
   "source": [
    "![Imagem 1](item3/1.png)"
   ]
  },
  {
   "cell_type": "markdown",
   "id": "21c8b6a7",
   "metadata": {},
   "source": [
    "![Imagem 2](item3/2.png)"
   ]
  },
  {
   "cell_type": "markdown",
   "id": "c534e461",
   "metadata": {},
   "source": [
    "Foi necessário uma pequena manipulação para transformação da estrutura dos dados:"
   ]
  },
  {
   "cell_type": "markdown",
   "id": "47601799",
   "metadata": {},
   "source": [
    "import requests\n",
    "\n",
    "    ###### URL do arquivo a ser baixado\n",
    "url = \"https://datasets-server.huggingface.co/first-rows?dataset=spacemanidol%2Fproduct-search-corpus&config=default&split=train\"\n",
    "\n",
    "    ###### Enviar solicitação GET para o URL\n",
    "response = requests.get(url)\n",
    "\n",
    "    ###### Verificar se a solicitação foi bem-sucedida\n",
    "if response.status_code == 200:\n",
    "    # Escrever o conteúdo em um arquivo\n",
    "    with open('dados.json', 'wb') as file:\n",
    "        file.write(response.content)\n",
    "else:\n",
    "    print(f\"Erro ao baixar o arquivo: Status Code {response.status_code}\")\n",
    "\n",
    "import os\n",
    "os.listdir()\n",
    "\n",
    "\n",
    "try:\n",
    "    ##### Abrindo e lendo o arquivo JSON com o encoding ISO-8859-1\n",
    "    with open('dados.json', 'r', encoding='ISO-8859-1') as file:\n",
    "        data = json.load(file)\n",
    "\n",
    "    ###### Verificando o tipo dos dados e exibindo uma parte do conteúdo\n",
    "    if isinstance(data, list):\n",
    "        # Se os dados são uma lista, imprime os primeiros 5 elementos\n",
    "        print(json.dumps(data[:5], indent=4, ensure_ascii=False))\n",
    "    elif isinstance(data, dict):\n",
    "    ##### Se os dados são um dicionário, imprime as chaves e uma parte dos valores\n",
    "        for key, value in list(data.items())[:5]:\n",
    "            print(f\"{key}: {value}\")\n",
    "    else:\n",
    "        ##### Se os dados são de outro tipo, apenas imprime o tipo\n",
    "        print(f\"Tipo de dados desconhecido: {type(data)}\")\n",
    "\n",
    "except json.JSONDecodeError as e:\n",
    "    print(f\"Erro ao decodificar o JSON: {e}\")\n",
    "except Exception as e:\n",
    "    print(f\"Erro ao ler o arquivo: {e}\")\n",
    "\n",
    "\n",
    "    ##### Caminho do arquivo JSON\n",
    "json_file_path = 'dados.json'\n",
    "\n",
    "    ##### Carregar os dados do JSON\n",
    "with open(json_file_path, 'r', encoding='ISO-8859-1') as file:\n",
    "    data = json.load(file)\n",
    "\n",
    "    ##### Extraindo as linhas dos dados\n",
    "rows = [row['row'] for row in data['rows']]\n",
    "\n",
    "    ##### Criando um DataFrame a partir das linhas\n",
    "df = pd.DataFrame(rows)\n",
    "\n",
    "    ##### Caminho para salvar o arquivo CSV\n",
    "csv_file_path = 'produtos.csv'\n",
    "\n",
    "    ##### Salvando o DataFrame em um arquivo CSV\n",
    "df.to_csv(csv_file_path, index=False)\n",
    "\n",
    "print(f\"Arquivo CSV salvo com sucesso: {csv_file_path}\")\n",
    "\n",
    "\n",
    "\n",
    "\n",
    "\n",
    "\n",
    "![Imagem 3](item3/3.png)"
   ]
  },
  {
   "cell_type": "markdown",
   "id": "4d6c7117",
   "metadata": {},
   "source": [
    "![Imagem 4](item3/4.png)"
   ]
  },
  {
   "cell_type": "markdown",
   "id": "6e11b1f5",
   "metadata": {},
   "source": [
    "## Item  4 - Sobre SQL e Python"
   ]
  },
  {
   "cell_type": "markdown",
   "id": "d49e990b",
   "metadata": {},
   "source": [
    "### 4.1 Dashboard:"
   ]
  },
  {
   "cell_type": "markdown",
   "id": "3df4e333",
   "metadata": {},
   "source": [
    "![Imagem 1](item4/1.png)"
   ]
  },
  {
   "cell_type": "markdown",
   "id": "dfe40576",
   "metadata": {},
   "source": [
    "### 4.2 Consultas SQL  de origem dos gráficos:"
   ]
  },
  {
   "cell_type": "markdown",
   "id": "fa58e5f8",
   "metadata": {},
   "source": [
    "#### 4.2.1 Consultas SQL  1:"
   ]
  },
  {
   "cell_type": "markdown",
   "id": "09e57ba0",
   "metadata": {},
   "source": [
    "-- Conta o número total de linhas na tabela\n",
    "\n",
    "SELECT COUNT(*) AS \"TOTAL_ROWS\"\n",
    "\n",
    "-- Especifica a tabela de onde os dados são extraídos\n",
    "\n",
    "FROM \"DADOSFERA_PRD_TREINAMENTOS\".\"PUBLIC\".\"TB__O5YFRG__PROD_CAT\" AS \"CAT\"\n",
    "\n",
    "![Imagem 2](item4/2.png)"
   ]
  },
  {
   "cell_type": "markdown",
   "id": "dac76179",
   "metadata": {},
   "source": [
    "#### 4.2.2 Consultas SQL  2:"
   ]
  },
  {
   "cell_type": "markdown",
   "id": "6cec739c",
   "metadata": {},
   "source": [
    "\n",
    "-- Seleciona a coluna 'PRODUCT_TYPE' da tabela especificada, convertendo para maiúsculas para padronização\n",
    "\n",
    "SELECT UPPER(\"CAT\".\"PRODUCT_TYPE\"), \n",
    "\n",
    "-- Conta o número de registros para cada 'PRODUCT_TYPE'\n",
    "\n",
    "COUNT(*) AS \"COUNT\" \n",
    "\n",
    "-- Especifica a tabela de onde os dados são extraídos\n",
    "\n",
    "FROM \"DADOSFERA_PRD_TREINAMENTOS\".\"PUBLIC\".\"TB__O5YFRG__PROD_CAT\" AS \"CAT\" \n",
    "\n",
    "-- Filtra para excluir a categoria 'NOT SPECIFIED'\n",
    "\n",
    "WHERE UPPER(\"CAT\".\"PRODUCT_TYPE\") <> 'NOT SPECIFIED'\n",
    "\n",
    "-- Agrupa os resultados pela coluna 'PRODUCT_TYPE'\n",
    "\n",
    "GROUP BY UPPER(\"CAT\".\"PRODUCT_TYPE\") \n",
    "\n",
    "-- Ordena os resultados pela contagem em ordem decrescente\n",
    "ORDER BY \"COUNT\" DESC \n",
    "\n",
    "\n",
    "\n",
    "\n",
    "\n",
    "\n",
    "\n",
    "![Imagem 2](item4/3.png)"
   ]
  },
  {
   "cell_type": "markdown",
   "id": "b1462c87",
   "metadata": {},
   "source": [
    "#### 4.2.3 Consultas SQL  3:"
   ]
  },
  {
   "cell_type": "markdown",
   "id": "1d0c1ecc",
   "metadata": {},
   "source": [
    "SELECT \n",
    "\n",
    "    -- A cláusula CASE é usada para tratar \"Clothes\" e \"Clothing\" como a mesma categoria\n",
    "    \n",
    "    CASE \n",
    "        -- Verifica se a categoria é \"Clothes\" ou \"Clothing\" (considera variações de maiúsculas/minúsculas)\n",
    "        \n",
    "        WHEN UPPER(\"CAT\".\"CATEGORY\") IN ('CLOTHES', 'CLOTHING') THEN 'CLOTHES'\n",
    "        \n",
    "        -- Para outras categorias, apenas converte para maiúsculas para padronização\n",
    "        \n",
    "        ELSE UPPER(\"CAT\".\"CATEGORY\")\n",
    "        \n",
    "    END AS \"AGGREGATED_CATEGORY\", -- A categoria resultante é renomeada como \"AGGREGATED_CATEGORY\"\n",
    "    \n",
    "    COUNT(*) AS \"COUNT\" -- Conta o número de registros para cada categoria agrupada\n",
    "    \n",
    "FROM \n",
    "\n",
    "    \"DADOSFERA_PRD_TREINAMENTOS\".\"PUBLIC\".\"TB__O5YFRG__PROD_CAT\" AS \"CAT\" \n",
    "    -- A tabela de onde os dados são extraídos\n",
    "    \n",
    "GROUP BY \n",
    "\n",
    "    \"AGGREGATED_CATEGORY\" \n",
    "    \n",
    "    -- Agrupa os resultados pela categoria agregada\n",
    "    \n",
    "ORDER BY \n",
    "\n",
    "    \"COUNT\" DESC \n",
    "    \n",
    "    -- Ordena os resultados pela contagem em ordem decrescente\n",
    "    \n",
    "LIMIT 5\n",
    "\n",
    "-- Limita os resultados às 5 categorias mais frequentes\n",
    "\n",
    "\n",
    "![Imagem 3](item4/4.png)"
   ]
  },
  {
   "cell_type": "markdown",
   "id": "3ee29f7f",
   "metadata": {},
   "source": [
    "#### 4.2.4 Consultas SQL  4"
   ]
  },
  {
   "cell_type": "markdown",
   "id": "ba8773ed",
   "metadata": {},
   "source": [
    "-- Seleciona a coluna 'COLORS' da tabela especificada, convertendo para maiúsculas para padronização\n",
    "\n",
    "SELECT UPPER(\"CAT\".\"COLORS\"), \n",
    "\n",
    "-- Conta o número de registros para cada cor\n",
    "\n",
    "COUNT(*) AS \"COUNT\" \n",
    "\n",
    "-- Especifica a tabela de onde os dados são extraídos\n",
    "\n",
    "FROM \"DADOSFERA_PRD_TREINAMENTOS\".\"PUBLIC\".\"TB__O5YFRG__PROD_CAT\" AS \"CAT\" \n",
    "\n",
    "-- Filtra para excluir as cores \n",
    "\n",
    "WHERE UPPER(\"CAT\".\"COLORS\") NOT IN ('NOT SPECIFIED', 'VARIOUS','UNINFORMED','COLORFUL','VARIED','STAINLESS STEEL','SEVERAL','HEATHER','TRANSPARENT')\n",
    "\n",
    "-- Agrupa os resultados pela coluna 'COLORS'\n",
    "\n",
    "GROUP BY UPPER(\"CAT\".\"COLORS\") \n",
    "\n",
    "-- Ordena os resultados pela contagem em ordem decrescente\n",
    "\n",
    "ORDER BY \"COUNT\" DESC \n",
    "\n",
    "\n",
    "![Imagem 4](item4/5.png)"
   ]
  },
  {
   "cell_type": "markdown",
   "id": "5e168d83",
   "metadata": {},
   "source": [
    "## Item  5 - Sobre Data Apps"
   ]
  },
  {
   "cell_type": "markdown",
   "id": "0cd7a034",
   "metadata": {},
   "source": [
    "### 5.1 Configuração com recursos de bibliotecas necessárias:"
   ]
  },
  {
   "cell_type": "markdown",
   "id": "48f81374",
   "metadata": {},
   "source": [
    "![Imagem 1](item5/1.png)"
   ]
  },
  {
   "cell_type": "markdown",
   "id": "e8743805",
   "metadata": {},
   "source": [
    "### 5.2 Upload dos arquivos necessários:"
   ]
  },
  {
   "cell_type": "markdown",
   "id": "1176035e",
   "metadata": {},
   "source": [
    "![Imagem 2](item5/2.png)"
   ]
  },
  {
   "cell_type": "markdown",
   "id": "5aa449a7",
   "metadata": {},
   "source": [
    "### 5.3 Configuração do Service:"
   ]
  },
  {
   "cell_type": "markdown",
   "id": "66712a51",
   "metadata": {},
   "source": [
    "![Imagem 3](item5/3.png)"
   ]
  },
  {
   "cell_type": "markdown",
   "id": "af37b8df",
   "metadata": {},
   "source": [
    "![Imagem 4](item5/4.png)"
   ]
  },
  {
   "cell_type": "markdown",
   "id": "97f74851",
   "metadata": {},
   "source": [
    "### 5.4 Data App rodando perfeitamente:"
   ]
  },
  {
   "cell_type": "markdown",
   "id": "b0bcc963",
   "metadata": {},
   "source": [
    "![Imagem 5](item5/5.png)"
   ]
  },
  {
   "cell_type": "markdown",
   "id": "6eec9765",
   "metadata": {},
   "source": [
    "![Imagem 6](item5/6.png)"
   ]
  },
  {
   "cell_type": "markdown",
   "id": "97c7b8c1",
   "metadata": {},
   "source": [
    "### 5.5 Link do DataApp:"
   ]
  },
  {
   "cell_type": "markdown",
   "id": "2a3e0fbe",
   "metadata": {},
   "source": [
    "https://app-intelligence-treinamentos.dadosfera.ai/pbp-service-streamlit-50d9c6e8-bcc9-4e6143da4674-ca2d-45d3_8501/"
   ]
  },
  {
   "cell_type": "markdown",
   "id": "a8537ac6",
   "metadata": {},
   "source": [
    "### Qualquer dúvida estou a disposição.\n",
    "\n",
    "![Muito Obrigado!](https://gifs.eco.br/wp-content/uploads/2022/03/gifs-animados-de-obrigado-16.gif)\n"
   ]
  }
 ],
 "metadata": {
  "kernelspec": {
   "display_name": "Python 3 (ipykernel)",
   "language": "python",
   "name": "python3"
  },
  "language_info": {
   "codemirror_mode": {
    "name": "ipython",
    "version": 3
   },
   "file_extension": ".py",
   "mimetype": "text/x-python",
   "name": "python",
   "nbconvert_exporter": "python",
   "pygments_lexer": "ipython3",
   "version": "3.9.13"
  }
 },
 "nbformat": 4,
 "nbformat_minor": 5
}
